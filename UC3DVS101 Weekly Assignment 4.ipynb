{
 "cells": [
  {
   "cell_type": "markdown",
   "metadata": {},
   "source": [
    "# Weekly Assignment 4 : Greenhouse Gas Emissions"
   ]
  },
  {
   "cell_type": "code",
   "execution_count": null,
   "metadata": {},
   "outputs": [],
   "source": [
    "import pandas as pd\n",
    "import numpy as np\n",
    "import plotly.graph_objects as go\n",
    "import plotly.express as px\n",
    "import plotly as py"
   ]
  },
  {
   "cell_type": "code",
   "execution_count": null,
   "metadata": {},
   "outputs": [],
   "source": [
    "# Load excel sheet\n",
    "df = pd.read_excel('/Users/andrea/Desktop/Notebooks/DVS/datasets/Greenhouse gas emission per capita.xls',\n",
    "                  skiprows=2,\n",
    "                  skipfooter=9)"
   ]
  },
  {
   "cell_type": "code",
   "execution_count": null,
   "metadata": {},
   "outputs": [],
   "source": [
    "# Drop unnecessary row and rename columns\n",
    "df.columns = ['geo', '2000', '2001', '2002', '2003', '2004', '2005', '2006', '2007', '2008', '2009', '2010', \n",
    "              '2011', '2012', '2013', '2014', '2015', '2016', '2017']\n",
    "\n",
    "df = df.drop(df.index[0])"
   ]
  },
  {
   "cell_type": "code",
   "execution_count": null,
   "metadata": {},
   "outputs": [],
   "source": [
    "# Drop countries that will not appear on the map and reset index\n",
    "excludes = ['Cyprus', 'Malta', 'Liechtenstein', 'Turkey'] \n",
    "df=df[~df['geo'].isin(excludes)]\n",
    "df = df.reset_index(drop=True)"
   ]
  },
  {
   "cell_type": "code",
   "execution_count": null,
   "metadata": {},
   "outputs": [],
   "source": [
    "# Create an empty list \n",
    "Row_list =[] \n",
    "  \n",
    "# Iterate over each row \n",
    "for index, rows in df.iterrows(): \n",
    "    # Create list for the current row \n",
    "    my_list =[rows['2000'], rows['2001'], rows['2002'], rows['2003'], rows['2004'], rows['2005'],\n",
    "                rows['2006'], rows['2007'], rows['2008'], rows['2009'], rows['2010'], rows['2011'], rows['2012'],\n",
    "                rows['2013'], rows['2014'], rows['2015'], rows['2016'], rows['2017']]\n",
    "      \n",
    "    # append the list to the final list \n",
    "    Row_list.append(my_list)  "
   ]
  },
  {
   "cell_type": "code",
   "execution_count": null,
   "metadata": {},
   "outputs": [],
   "source": [
    "# Create new dataframe with a \"Country\" column and one column \n",
    "# containing all yearly emissions for each country\n",
    "data = {'Country': df.geo, 'Emission': Row_list}\n",
    "new_df = pd.DataFrame(data=data)\n",
    "new_df = new_df.explode('Emission').reset_index()\n",
    "new_df = new_df.drop('index', axis=1)\n",
    "\n",
    "a = list(range(2000, 2018))\n",
    "b = np.tile(a, 29)\n",
    "new_df['Year'] = b\n",
    "new_df['Emission'] = new_df['Emission'].astype('float')"
   ]
  },
  {
   "cell_type": "code",
   "execution_count": null,
   "metadata": {},
   "outputs": [],
   "source": [
    "# Create a new column to sort emissions into value bins\n",
    "new_df['category'] = ''\n",
    "\n",
    "def set_cat(row):\n",
    "    if row['Emission'] > 0 and row['Emission'] < 5:\n",
    "        return '1 - 4'\n",
    "    if row['Emission'] >= 5 and row['Emission'] < 9:\n",
    "        return '5 - 8'\n",
    "    if row['Emission'] >= 9 and row['Emission'] < 13:\n",
    "        return '9 - 12'\n",
    "    if row['Emission'] >= 13 and row['Emission'] < 17:\n",
    "        return '13 - 16'\n",
    "    if row['Emission'] >= 17 and row['Emission'] < 21:\n",
    "        return '17 - 20'\n",
    "    if row['Emission'] >= 21 and row['Emission'] < 25:\n",
    "        return '21 - 24'\n",
    "    if row['Emission'] >= 25 and row['Emission'] < 29:\n",
    "        return '25 - 28'\n",
    "    if row['Emission'] >= 29 and row['Emission'] < 33:\n",
    "        return '29 - 32'\n",
    "\n",
    "new_df = new_df.assign(category=new_df.apply(set_cat, axis=1))\n",
    "\n",
    "# Adds all available categories to each year\n",
    "catg = new_df['category'].unique()\n",
    "yrs = new_df['Year'].unique()\n",
    "\n",
    "for yr in yrs:\n",
    "    for i in catg:\n",
    "        new_df = new_df.append({\n",
    "            'Country' : 'M',\n",
    "            'Emission' : 'N',\n",
    "            'Year' : yr,\n",
    "            'category' : i\n",
    "        }, ignore_index=True)\n",
    "        \n",
    "new_df = new_df.mask(new_df.eq('None')).dropna()"
   ]
  },
  {
   "cell_type": "code",
   "execution_count": null,
   "metadata": {},
   "outputs": [],
   "source": [
    "# Create choropleth map\n",
    "fig = px.choropleth(new_df,\n",
    "                    locations=\"Country\",\n",
    "                    color=\"category\",\n",
    "                    color_discrete_map={\n",
    "                        '1 - 4': 'rgb(255,245,240)',\n",
    "                        '5 - 8' : 'rgb(254,224,210)',\n",
    "                        '9 - 12' : 'rgb(252,187,161)',\n",
    "                        '13 - 16' : 'rgb(252,146,114)',\n",
    "                        '17 - 20' : 'rgb(239,59,44)',\n",
    "                        '21 - 24' : 'rgb(203,24,29)',\n",
    "                        '25 - 28' : 'rgb(165,15,21)',\n",
    "                        '29 - 32' : 'rgb(103,0,13)'},\n",
    "                    category_orders={\n",
    "                      'category' : [\n",
    "                          '1 - 4',\n",
    "                          '5 - 8',\n",
    "                          '9 - 12',\n",
    "                          '13 - 16',\n",
    "                          '17 - 20',\n",
    "                          '21 - 24',\n",
    "                          '25 - 28',\n",
    "                          '29 - 32'\n",
    "                      ]\n",
    "                    },\n",
    "                    animation_frame=\"Year\",\n",
    "                    scope='europe',\n",
    "                    hover_name='Country',\n",
    "                    hover_data={'Emission' : True},\n",
    "                    locationmode='country names',\n",
    "                    )\n",
    "\n",
    "# Adjust map layout styling\n",
    "fig.update_layout(\n",
    "    showlegend = True,\n",
    "    legend_title_text='Emission',\n",
    "    title_text = 'Greenhouse Gas Emissions for 29 European Countries'  +  \n",
    "        '<span style=\"font-size: 12px;\"> between 2000 and 2017</span>',\n",
    "    plot_bgcolor='rgba(0,0,0,0)',\n",
    "    geo = go.layout.Geo(\n",
    "        scope = 'europe',\n",
    "        showframe = False,\n",
    "        showcoastlines = True,\n",
    "        landcolor = \"rgb(229, 229, 229)\",\n",
    "        countrycolor = \"white\" ,\n",
    "        coastlinecolor = \"white\"),\n",
    "    autosize=False,\n",
    "    width=700,\n",
    "    height=700,\n",
    ")\n",
    "\n",
    "# Show map\n",
    "fig.show()"
   ]
  },
  {
   "cell_type": "code",
   "execution_count": null,
   "metadata": {},
   "outputs": [],
   "source": []
  }
 ],
 "metadata": {
  "kernelspec": {
   "display_name": "Python 3",
   "language": "python",
   "name": "python3"
  },
  "language_info": {
   "codemirror_mode": {
    "name": "ipython",
    "version": 3
   },
   "file_extension": ".py",
   "mimetype": "text/x-python",
   "name": "python",
   "nbconvert_exporter": "python",
   "pygments_lexer": "ipython3",
   "version": "3.7.6"
  }
 },
 "nbformat": 4,
 "nbformat_minor": 4
}
